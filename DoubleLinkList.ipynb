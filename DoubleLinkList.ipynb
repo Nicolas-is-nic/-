{
 "cells": [
  {
   "cell_type": "code",
   "execution_count": 14,
   "metadata": {},
   "outputs": [],
   "source": [
    "class DuNode(object):\n",
    "    def __init__(self, item):\n",
    "        self.elem = item\n",
    "        self.next = None\n",
    "        self.prev = None\n",
    "\n",
    "class DoubleLinkList(object):\n",
    "    def __init__(self, node=None):\n",
    "        self.__head = node\n",
    "    \n",
    "    def is_empty(self):\n",
    "        return self.__head is None\n",
    "    \n",
    "    def length(self):\n",
    "        cur = self.__head\n",
    "        count = 0\n",
    "        while(cur != None):\n",
    "            cur = cur.next\n",
    "            count += 1\n",
    "        return count\n",
    "    \n",
    "    def travel(self):\n",
    "        cur = self.__head\n",
    "        while(cur != None):\n",
    "            print(cur.elem, end=' ')\n",
    "            cur = cur.next\n",
    "    \n",
    "    def add(self, item):\n",
    "        node = DuNode(item)\n",
    "        node.next = self.__head\n",
    "        self.__head.prev = node\n",
    "        self.__head = node\n",
    "    \n",
    "    def append(self, item):\n",
    "        node = DuNode(item)\n",
    "        if self.is_empty():\n",
    "            self.__head = node\n",
    "        else:\n",
    "            cur = self.__head\n",
    "            while cur.next != None:\n",
    "                cur = cur.next\n",
    "            cur.next = node\n",
    "            cur.next.prev = cur\n",
    "    \n",
    "    def insert(self, pos, item):\n",
    "        if pos <= 0:\n",
    "            return self.add(item)\n",
    "        elif pos > (self.length()-1):\n",
    "            return self.append(item)\n",
    "        else:\n",
    "            node = DuNode(item)\n",
    "            cur = self.__head\n",
    "            count = 0\n",
    "            while count != pos:\n",
    "                cur = cur.next\n",
    "                count += 1\n",
    "            node.next = cur\n",
    "            node.prev = cur.prev\n",
    "            cur.prev = node\n",
    "            node.prev.next = node\n",
    "    \n",
    "    def remove(self, item):\n",
    "        node = DuNode(item)\n",
    "        cur = self.__head\n",
    "        while cur != None:\n",
    "            if cur.elem == item:\n",
    "                if self.__head == cur:\n",
    "                    self.__head = cur.next\n",
    "                    if cur.next: \n",
    "                        #如果一开始只有一个节点，删除了之后就没有cur.next了，所以要进行一次判断\n",
    "                        cur.next.prev = None\n",
    "                else:\n",
    "                    cur.prev.next = cur.next\n",
    "                    if cur.next:\n",
    "                        #删除尾节点，就没有cur.next.prev\n",
    "                        cur.next.prev = cur.prev\n",
    "                break\n",
    "            else:\n",
    "                cur = cur.next\n",
    "            \n",
    "                \n",
    "            \n",
    "    def search(self, item):\n",
    "        cur = self.__head\n",
    "        while cur != None:\n",
    "            if cur.elem == item:\n",
    "                return True\n",
    "            else:\n",
    "                cur = cur.next\n",
    "        return False\n",
    "        "
   ]
  },
  {
   "cell_type": "code",
   "execution_count": 15,
   "metadata": {},
   "outputs": [
    {
     "name": "stdout",
     "output_type": "stream",
     "text": [
      "1 2 3 4 5 6 "
     ]
    }
   ],
   "source": [
    "a = None\n",
    "a = DoubleLinkList()\n",
    "for i in range(1,7):\n",
    "    a.append(i)\n",
    "a.travel()"
   ]
  },
  {
   "cell_type": "code",
   "execution_count": 19,
   "metadata": {},
   "outputs": [
    {
     "name": "stdout",
     "output_type": "stream",
     "text": [
      "2 4 5 "
     ]
    }
   ],
   "source": [
    "a.remove(6)\n",
    "a.travel()"
   ]
  },
  {
   "cell_type": "code",
   "execution_count": null,
   "metadata": {},
   "outputs": [],
   "source": []
  }
 ],
 "metadata": {
  "kernelspec": {
   "display_name": "Python 3",
   "language": "python",
   "name": "python3"
  },
  "language_info": {
   "codemirror_mode": {
    "name": "ipython",
    "version": 3
   },
   "file_extension": ".py",
   "mimetype": "text/x-python",
   "name": "python",
   "nbconvert_exporter": "python",
   "pygments_lexer": "ipython3",
   "version": "3.7.0"
  }
 },
 "nbformat": 4,
 "nbformat_minor": 2
}
