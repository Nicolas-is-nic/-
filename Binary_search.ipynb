{
 "cells": [
  {
   "cell_type": "code",
   "execution_count": null,
   "metadata": {},
   "outputs": [],
   "source": [
    "def binary_search(alist, item):\n",
    "    #递归的版本\n",
    "    n = len(alist)\n",
    "    while n > 0:\n",
    "            mid = n // 2\n",
    "            if alist[mid] == item:\n",
    "                return True\n",
    "            elif alist[mid] < item:\n",
    "                return binary_search(alist[:mid], item)\n",
    "            elif alist[mid] > item:\n",
    "                return binary_search(alist[mid+1:], item)\n",
    "    return False\n",
    "    "
   ]
  },
  {
   "cell_type": "code",
   "execution_count": 3,
   "metadata": {},
   "outputs": [],
   "source": [
    "def binary_search_2(alist, item):\n",
    "    #非递归的版本\n",
    "    first, last = 0, len(alist)-1\n",
    "    while first <= last:\n",
    "        mid = (first + last)//2\n",
    "        if alist[mid] == item:\n",
    "            return True\n",
    "        elif item < alist[mid]:\n",
    "            last = mid-1\n",
    "        else:\n",
    "            first = mid+1\n",
    "    return False"
   ]
  },
  {
   "cell_type": "code",
   "execution_count": null,
   "metadata": {},
   "outputs": [],
   "source": [
    "a = [1,2,4,56,89,90]\n",
    "binary_search_2(a,10)"
   ]
  }
 ],
 "metadata": {
  "kernelspec": {
   "display_name": "Python 3",
   "language": "python",
   "name": "python3"
  },
  "language_info": {
   "codemirror_mode": {
    "name": "ipython",
    "version": 3
   },
   "file_extension": ".py",
   "mimetype": "text/x-python",
   "name": "python",
   "nbconvert_exporter": "python",
   "pygments_lexer": "ipython3",
   "version": "3.7.0"
  }
 },
 "nbformat": 4,
 "nbformat_minor": 2
}
