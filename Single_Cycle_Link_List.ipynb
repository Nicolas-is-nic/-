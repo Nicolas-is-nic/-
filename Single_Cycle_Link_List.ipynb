{
 "cells": [
  {
   "cell_type": "code",
   "execution_count": 4,
   "metadata": {},
   "outputs": [],
   "source": [
    "class Node(object):\n",
    "    def __init__(self, item):\n",
    "        self.elem = item\n",
    "        self.next = None\n",
    "\n",
    "class SingleCycleLinkList(object):\n",
    "    def __init__(self, node=None):\n",
    "        self.__head = node\n",
    "        if node:\n",
    "            node.next = node\n",
    "    \n",
    "    def is_empty(self):\n",
    "        return self.__head == None\n",
    "    \n",
    "    def length(self):\n",
    "        if self.is_empty():\n",
    "            return 0\n",
    "        else:\n",
    "            cur = self.__head\n",
    "            count = 1\n",
    "            while cur.next != self.__head:\n",
    "                count += 1\n",
    "                cur = cur.next\n",
    "            return count\n",
    "    \n",
    "    def travel(self):\n",
    "        if self.is_empty():\n",
    "            return\n",
    "        cur = self.__head\n",
    "        while cur.next != self.__head:\n",
    "            print(cur.elem, end=' ')\n",
    "            cur = cur.next\n",
    "        print(cur.elem)\n",
    "        \n",
    "    def add(self,item):\n",
    "        node = Node(item)\n",
    "        if self.is_empty():\n",
    "            self.__head = node\n",
    "            node.next = node\n",
    "        else:\n",
    "            cur = self.__head\n",
    "            while cur.next != self.__head:\n",
    "                cur = cur.next\n",
    "            #退出循环时，cur指向尾节点\n",
    "            node.next = self.__head\n",
    "            self.__head = node\n",
    "            cur.next = node\n",
    "            \n",
    "    def append(self, item):\n",
    "        node = Node(item)\n",
    "        if self.is_empty():\n",
    "            self.__head = node\n",
    "            node.next = node\n",
    "        else:\n",
    "            cur = self.__head\n",
    "            while cur.next != self.__head:\n",
    "                cur = cur.next\n",
    "            cur.next = node\n",
    "            node.next = self.__head\n",
    "    \n",
    "    def insert(self, pos, item):\n",
    "        if pos <= 0:\n",
    "            self.add(item)\n",
    "        elif pos > (self.length()-1):\n",
    "            self.append(item)\n",
    "        else:\n",
    "            node = Node(item)\n",
    "            count = 0\n",
    "            cur = self.__head\n",
    "            while count < pos-1:\n",
    "                cur = cur.next\n",
    "                count += 1\n",
    "            node.next = cur.next\n",
    "            cur.next = node\n",
    "    \n",
    "    def search(self, item):\n",
    "        if self.is_empty():\n",
    "            return False\n",
    "        cur = self.__head\n",
    "        while cur.next != self.__head:\n",
    "            if cur.elem == item:\n",
    "                return True\n",
    "            cur = cur.next\n",
    "        if cur.elem == item:\n",
    "            return True\n",
    "        return False\n",
    "    \n",
    "    def remove(self, item):\n",
    "        if self.is_empty():\n",
    "            return\n",
    "        cur = self.__head\n",
    "        pre =None\n",
    "        while cur.next != self.__head:\n",
    "            if cur.elem == item:\n",
    "                #如果是头结点\n",
    "                #需要找到尾节点\n",
    "                if cur == self.__head:\n",
    "                    rear = self.__head\n",
    "                    while rear.next != self.__head:\n",
    "                        rear = rear.next\n",
    "                    self.__head = cur.next\n",
    "                    rear.next = self.__head\n",
    "                else:\n",
    "                    pre.next = cur.next\n",
    "                return\n",
    "            else:\n",
    "                pre = cur\n",
    "                cur = cur.next\n",
    "        #退出循环，cur指向尾节点\n",
    "        if cur.elem == item:\n",
    "            #如果链表只有一个节点\n",
    "            if cur == self.__head:\n",
    "                self.__head = None\n",
    "            else:\n",
    "                pre.next = cur.next     "
   ]
  },
  {
   "cell_type": "code",
   "execution_count": 5,
   "metadata": {},
   "outputs": [
    {
     "name": "stdout",
     "output_type": "stream",
     "text": [
      "1 2 3 4 5 6 7\n"
     ]
    }
   ],
   "source": [
    "a = None\n",
    "a = SingleCycleLinkList()\n",
    "for i in range(1,8):\n",
    "    a.append(i)\n",
    "a.travel()"
   ]
  },
  {
   "cell_type": "code",
   "execution_count": 6,
   "metadata": {},
   "outputs": [
    {
     "name": "stdout",
     "output_type": "stream",
     "text": [
      "2 3 4 5 6 7\n"
     ]
    }
   ],
   "source": [
    "a.remove(1)\n",
    "a.travel()"
   ]
  },
  {
   "cell_type": "code",
   "execution_count": null,
   "metadata": {},
   "outputs": [],
   "source": []
  }
 ],
 "metadata": {
  "kernelspec": {
   "display_name": "Python 3",
   "language": "python",
   "name": "python3"
  },
  "language_info": {
   "codemirror_mode": {
    "name": "ipython",
    "version": 3
   },
   "file_extension": ".py",
   "mimetype": "text/x-python",
   "name": "python",
   "nbconvert_exporter": "python",
   "pygments_lexer": "ipython3",
   "version": "3.7.0"
  }
 },
 "nbformat": 4,
 "nbformat_minor": 2
}
