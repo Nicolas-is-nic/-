{
 "cells": [
  {
   "cell_type": "code",
   "execution_count": 4,
   "metadata": {},
   "outputs": [],
   "source": [
    "class Stack(object):\n",
    "    def __init__(self):\n",
    "        self.__list = []\n",
    "    \n",
    "    def push(self, item):\n",
    "        self.__list.append(item)\n",
    "    \n",
    "    def pop(self):\n",
    "        return self.__list.pop()\n",
    "        \n",
    "    def peek(self):\n",
    "        if self.__list:\n",
    "            return self.__list[-1]\n",
    "        else:\n",
    "            return None\n",
    "    \n",
    "    def is_empty(self):\n",
    "        return self.__list == []\n",
    "    \n",
    "    def size(self):\n",
    "        return len(self.__list)"
   ]
  },
  {
   "cell_type": "code",
   "execution_count": 7,
   "metadata": {},
   "outputs": [],
   "source": [
    "class Queue(object):\n",
    "    def __init__(self):\n",
    "        self.__list = []\n",
    "        \n",
    "    def enqueue(self, item):\n",
    "        self.__list.append(item)\n",
    "    \n",
    "    def dequeue(self):\n",
    "        return self.__list.pop(0)\n",
    "    \n",
    "    def is_empty(self):\n",
    "        return self.__list == []\n",
    "    \n",
    "    def size(self):\n",
    "        return len(self.__list)     "
   ]
  },
  {
   "cell_type": "code",
   "execution_count": 11,
   "metadata": {},
   "outputs": [],
   "source": [
    "class Deque(object):\n",
    "    def __init__(self):\n",
    "        self.__list = []\n",
    "    \n",
    "    def add_front(self, item):\n",
    "        self.__list.insert(0, item)\n",
    "    \n",
    "    def add_rear(self, item):\n",
    "        self.__list.append(item)\n",
    "    \n",
    "    def pop_front(self):\n",
    "        return self.__list.pop(0)\n",
    "    \n",
    "    def pop_rear(self):\n",
    "        return self.__list.pop()\n",
    "    \n",
    "    def is_empty(self):\n",
    "        return self.__list == []\n",
    "    \n",
    "    def size(self):\n",
    "        return len(self.__list)"
   ]
  }
 ],
 "metadata": {
  "kernelspec": {
   "display_name": "Python 3",
   "language": "python",
   "name": "python3"
  },
  "language_info": {
   "codemirror_mode": {
    "name": "ipython",
    "version": 3
   },
   "file_extension": ".py",
   "mimetype": "text/x-python",
   "name": "python",
   "nbconvert_exporter": "python",
   "pygments_lexer": "ipython3",
   "version": "3.7.0"
  }
 },
 "nbformat": 4,
 "nbformat_minor": 2
}
