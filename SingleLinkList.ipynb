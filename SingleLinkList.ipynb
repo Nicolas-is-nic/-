{
 "cells": [
  {
   "cell_type": "code",
   "execution_count": 1,
   "metadata": {},
   "outputs": [],
   "source": [
    "class Node(object):\n",
    "    def __init__(self, elem):\n",
    "        self.elem = elem\n",
    "        self.next = None\n",
    "\n",
    "class SingleLinkList(object):\n",
    "    def __init__(self, node=None):\n",
    "        self.__head = node\n",
    "    \n",
    "    def is_empty(self):\n",
    "        #判断链表是否为空，为空返回True，不空返回False\n",
    "        return self.__head == None\n",
    "    \n",
    "    def length(self):\n",
    "        #计算链表的长度\n",
    "        cur = self.__head\n",
    "        count = 0\n",
    "        while(cur != None):\n",
    "            count += 1\n",
    "            cur = cur.next\n",
    "        return count\n",
    "    \n",
    "    def append(self, item):\n",
    "        #尾插法，在链表尾部添加节点\n",
    "        node = Node(item)\n",
    "        if self.is_empty():\n",
    "            self.__head = node\n",
    "        else:\n",
    "            cur = self.__head\n",
    "            while(cur.next != None):\n",
    "                cur = cur.next\n",
    "            cur.next = node\n",
    "            \n",
    "    def travel(self):\n",
    "        #遍历链表并打印元素\n",
    "        cur = self.__head\n",
    "        while(cur != None):\n",
    "            print(cur.elem, end=' ')\n",
    "            cur = cur.next\n",
    "            \n",
    "    def add(self, item):\n",
    "        #头插法，在链表头部插入节点\n",
    "        node = Node(item)\n",
    "        if self.length() == 0:\n",
    "            self.__head = node\n",
    "        else:\n",
    "            cur = self.__head\n",
    "            self.__head = node\n",
    "            node.next = cur    \n",
    "    \n",
    "    def insert(self, pos, item):\n",
    "        #在链表特定位置插入节点\n",
    "        #pos从0开始计算，如果pos < 0，当头插法处理，如果pos >= length -1，当尾插法处理\n",
    "        if pos <= 0:\n",
    "            self.add(item)\n",
    "        elif pos > (self.length()-1):\n",
    "            self.append(item)\n",
    "        else:\n",
    "            pre = self.__head\n",
    "            node = Node(item)\n",
    "            count = 0\n",
    "            while count < (pos -1):\n",
    "                count += 1\n",
    "                pre = pre.next\n",
    "            node.next = pre.next\n",
    "            pre.next = node\n",
    "    \n",
    "    def search(self,item):\n",
    "        #查找特定的值\n",
    "        cur = self.__head\n",
    "        while(cur != None):\n",
    "            if cur.elem == item:\n",
    "                return True\n",
    "            else:\n",
    "                cur = cur.next\n",
    "        return False\n",
    "    \n",
    "    def remove(self, item):\n",
    "        #删除特定的值（只删除从头开始找到的第一个值）\n",
    "        per = None\n",
    "        cur = self.__head\n",
    "        while cur != None:\n",
    "            if cur.elem == item:\n",
    "                if cur == self.__head:\n",
    "                    self.__head = cur.next\n",
    "                else:\n",
    "                    pre.next = cur.next\n",
    "                break\n",
    "            else:\n",
    "                pre = cur\n",
    "                cur = cur.next"
   ]
  },
  {
   "cell_type": "code",
   "execution_count": 2,
   "metadata": {},
   "outputs": [],
   "source": [
    "a = None\n",
    "a = SingleLinkList()\n",
    "for i in range(1,8):\n",
    "    a.append(i)"
   ]
  },
  {
   "cell_type": "code",
   "execution_count": 3,
   "metadata": {},
   "outputs": [
    {
     "name": "stdout",
     "output_type": "stream",
     "text": [
      "1 2 3 4 5 6 7 "
     ]
    }
   ],
   "source": [
    "a.travel()"
   ]
  },
  {
   "cell_type": "code",
   "execution_count": 6,
   "metadata": {},
   "outputs": [
    {
     "name": "stdout",
     "output_type": "stream",
     "text": [
      "1 2 3 4 5 6 "
     ]
    }
   ],
   "source": [
    "a.remove(7)\n",
    "a.travel()"
   ]
  }
 ],
 "metadata": {
  "kernelspec": {
   "display_name": "Python 3",
   "language": "python",
   "name": "python3"
  },
  "language_info": {
   "codemirror_mode": {
    "name": "ipython",
    "version": 3
   },
   "file_extension": ".py",
   "mimetype": "text/x-python",
   "name": "python",
   "nbconvert_exporter": "python",
   "pygments_lexer": "ipython3",
   "version": "3.7.0"
  }
 },
 "nbformat": 4,
 "nbformat_minor": 2
}
