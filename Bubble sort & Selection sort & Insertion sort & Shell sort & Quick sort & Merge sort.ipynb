{
 "cells": [
  {
   "cell_type": "code",
   "execution_count": null,
   "metadata": {},
   "outputs": [],
   "source": [
    "def bubble_sort(alist):\n",
    "    #最优时间复杂度o(n)，最坏时间复杂度为o(n^2)\n",
    "    #稳定性： 稳定\n",
    "    n = len(alist)\n",
    "    for j in range(n-1):\n",
    "        count = 0\n",
    "        for i in range(n-1-j):\n",
    "            if alist[i] > alist[i+1]:\n",
    "                alist[i], alist[i+1] = alist[i+1], alist[i]\n",
    "                count += 1\n",
    "        if count == 0:\n",
    "            return alist\n",
    "    return alist"
   ]
  },
  {
   "cell_type": "code",
   "execution_count": null,
   "metadata": {},
   "outputs": [],
   "source": [
    "def select_sort(alist):\n",
    "    #挑选出序列的最小值，放在第一位\n",
    "    #然后每次找出剩下序列的最小值，接在后面\n",
    "    #时间复杂度为o(n^2)\n",
    "    #稳定性： 不稳定\n",
    "    n = len(alist)\n",
    "    for j in range(n-1):\n",
    "        min_index = j\n",
    "        for i  in range(j+1, n):\n",
    "            if alist[min_index] > alist[i]:\n",
    "                min_index = i\n",
    "        alist[j], alist[min_index] = alist[min_index], alist[j]\n",
    "    return alist"
   ]
  },
  {
   "cell_type": "code",
   "execution_count": null,
   "metadata": {},
   "outputs": [],
   "source": [
    "def insert_sort(alist):\n",
    "    #默认第一个数是有序的，将第二个数插入到正确位置\n",
    "    #再将第三个数插入到前面的正确位置，以此类推\n",
    "    #最优时间复杂度o(n)，最坏时间复杂度o(n^2)\n",
    "    #稳定\n",
    "    n = len(alist)\n",
    "    for j in range(1,n):\n",
    "        for i in range(j,0,-1):\n",
    "            if alist[i] < alist[i-1]:\n",
    "                alist[i-1], alist[i] = alist[i], alist[i-1]\n",
    "            else:\n",
    "                break\n",
    "    return alist"
   ]
  },
  {
   "cell_type": "code",
   "execution_count": null,
   "metadata": {},
   "outputs": [],
   "source": [
    "def shell_sort(alist):\n",
    "    #最坏时间复杂度：0(n^2)\n",
    "    #稳定性：不稳定\n",
    "    n = len(alist)\n",
    "    gap = n//2\n",
    "    while gap >= 1:\n",
    "        for j in range(gap,n):\n",
    "            i = j\n",
    "            while i > 0:\n",
    "                if alist[i] < alist[i-gap]:\n",
    "                    alist[i], alist[i-gap] = alist[i-gap], alist[i]\n",
    "                    i -= gap\n",
    "                else:\n",
    "                    break\n",
    "        gap //= 2\n",
    "    return alist"
   ]
  },
  {
   "cell_type": "code",
   "execution_count": null,
   "metadata": {},
   "outputs": [],
   "source": [
    "def quick_sort(alist, first, last):\n",
    "     #不稳定，时间复杂度o(nlog(n))\n",
    "    #递归退出条件\n",
    "    if first >= last:\n",
    "        return alist\n",
    "    \n",
    "    mid_value = alist[first]\n",
    "    low,high = first, last\n",
    "    while low < high:\n",
    "        while low < high and alist[high] >= mid_value:\n",
    "            high -= 1\n",
    "        alist[low] = alist[high]\n",
    "        while low < high and alist[low] < mid_value:\n",
    "            low += 1\n",
    "        alist[high] = alist[low]\n",
    "    alist[low] = mid_value     \n",
    "    \n",
    "    quick_sort(alist,first,low-1)\n",
    "    quick_sort(alist, low+1, last) \n",
    "    return alist\n",
    "\n",
    "def quick_sort_2(alist):\n",
    "    n = len(alist)\n",
    "    if n <= 1:\n",
    "        return alist\n",
    "    mid = alist[0]\n",
    "    low = [i for i in alist if i < mid]\n",
    "    equ = [i for i in alist if i == mid]\n",
    "    high = [i for i in alist if i > mid]\n",
    "    return quick_sort_2(low) + equ + quick_sort_2(high)"
   ]
  },
  {
   "cell_type": "code",
   "execution_count": 10,
   "metadata": {},
   "outputs": [],
   "source": [
    "def merge_sort(alist):\n",
    "    #以前的排序都是在自身基础上进行的排序，没有引进新的存储空间（自己写的quick_sort_2也用了新的存储）\n",
    "    #merge_sort 引入了新的存储空间\n",
    "    #时间复杂度（最好最坏）:o(nlog(n)),最快的排序算法\n",
    "    #以空间换时间\n",
    "    n = len(alist)\n",
    "    if n <= 1:\n",
    "        return alist\n",
    "    mid = n//2\n",
    "    left_li = merge_sort(alist[:mid])\n",
    "    right_li = merge_sort(alist[mid:])\n",
    "    \n",
    "    left_pointer, right_pointer = 0, 0\n",
    "    result = []\n",
    "    while left_pointer < len(left_li) and right_pointer < len(right_li):\n",
    "        if left_li[left_pointer] <= right_li[right_pointer]:\n",
    "            result.append(left_li[left_pointer])\n",
    "            left_pointer += 1\n",
    "        else:\n",
    "            result.append(right_li[right_pointer])\n",
    "            right_pointer += 1   \n",
    "    result += left_li[left_pointer:]\n",
    "    result += right_li[right_pointer:]\n",
    "    return result     "
   ]
  },
  {
   "cell_type": "code",
   "execution_count": null,
   "metadata": {},
   "outputs": [],
   "source": [
    "a = [54, 26, 93, 17, 77, 31, 44, 55, 20, 54]"
   ]
  }
 ],
 "metadata": {
  "kernelspec": {
   "display_name": "Python 3",
   "language": "python",
   "name": "python3"
  },
  "language_info": {
   "codemirror_mode": {
    "name": "ipython",
    "version": 3
   },
   "file_extension": ".py",
   "mimetype": "text/x-python",
   "name": "python",
   "nbconvert_exporter": "python",
   "pygments_lexer": "ipython3",
   "version": "3.7.0"
  }
 },
 "nbformat": 4,
 "nbformat_minor": 2
}
