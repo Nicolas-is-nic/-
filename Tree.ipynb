{
 "cells": [
  {
   "cell_type": "code",
   "execution_count": 10,
   "metadata": {},
   "outputs": [],
   "source": [
    "class Node(object):\n",
    "    def __init__(self, item, l = None, r = None):\n",
    "        self.elem = item\n",
    "        self.lchild = l\n",
    "        self.rchild = r\n",
    "\n",
    "class tree(object):\n",
    "    def __init__(self, root = None):\n",
    "        self.root = root\n",
    "    \n",
    "    def add(self, item):\n",
    "        node = Node(item)\n",
    "        if self.root is None:\n",
    "            self.root = node\n",
    "            return\n",
    "        queue = []\n",
    "        queue.append(self.root)\n",
    "        while queue:\n",
    "            cur_node = queue.pop(0)\n",
    "            if cur_node.lchild is None:\n",
    "                cur_node.lchild = node\n",
    "                return\n",
    "            else:\n",
    "                queue.append(cur_node.lchild)\n",
    "            if cur_node.rchild is None:\n",
    "                cur_node.rchild = node\n",
    "                return\n",
    "            else:\n",
    "                queue.append(cur_node.rchild)\n",
    "    \n",
    "    def breadth_travel(self):\n",
    "        #广度遍历\n",
    "        queue = [self.root]\n",
    "        if self.root is None:\n",
    "            return\n",
    "        while queue:\n",
    "            cur_node = queue.pop(0)\n",
    "            print(cur_node.elem, end=' ')\n",
    "            if cur_node.lchild is not None:\n",
    "                queue.append(cur_node.lchild)\n",
    "            if cur_node.rchild is not None:\n",
    "                queue.append(cur_node.rchild) \n",
    "    \n",
    "    def preorder(self, node):\n",
    "        #先序遍历： 根 左 右\n",
    "        if node is None:\n",
    "            return\n",
    "        print(node.elem, end=' ')     \n",
    "        self.preorder(node.lchild)\n",
    "        self.preorder(node.rchild)\n",
    "    \n",
    "    def inorder(self, node):\n",
    "        #中序遍历： 左 根 右\n",
    "        if node is None:\n",
    "            return    \n",
    "        self.inorder(node.lchild)\n",
    "        print(node.elem, end=' ') \n",
    "        self.inorder(node.rchild)\n",
    "    \n",
    "    def postorder(self, node):\n",
    "        #后序遍历： 左 右 根\n",
    "        if node is None:\n",
    "            return    \n",
    "        self.postorder(node.lchild)\n",
    "        self.postorder(node.rchild) \n",
    "        print(node.elem, end=' ') "
   ]
  },
  {
   "cell_type": "code",
   "execution_count": 11,
   "metadata": {},
   "outputs": [],
   "source": [
    "t = None\n",
    "t= tree()\n",
    "for i in range(1,10):\n",
    "    t.add(i)\n"
   ]
  },
  {
   "cell_type": "code",
   "execution_count": 12,
   "metadata": {},
   "outputs": [
    {
     "name": "stdout",
     "output_type": "stream",
     "text": [
      "1 2 3 4 5 6 7 8 9 \n",
      "1 2 4 8 9 5 3 6 7 \n",
      "8 4 9 2 5 1 6 3 7 \n",
      "8 9 4 5 2 6 7 3 1 "
     ]
    }
   ],
   "source": [
    "t.breadth_travel()\n",
    "print('')\n",
    "t.preorder(t.root)\n",
    "print('')\n",
    "t.inorder(t.root)\n",
    "print('')\n",
    "t.postorder(t.root)"
   ]
  },
  {
   "cell_type": "code",
   "execution_count": null,
   "metadata": {},
   "outputs": [],
   "source": []
  }
 ],
 "metadata": {
  "kernelspec": {
   "display_name": "Python 3",
   "language": "python",
   "name": "python3"
  },
  "language_info": {
   "codemirror_mode": {
    "name": "ipython",
    "version": 3
   },
   "file_extension": ".py",
   "mimetype": "text/x-python",
   "name": "python",
   "nbconvert_exporter": "python",
   "pygments_lexer": "ipython3",
   "version": "3.7.0"
  }
 },
 "nbformat": 4,
 "nbformat_minor": 2
}
